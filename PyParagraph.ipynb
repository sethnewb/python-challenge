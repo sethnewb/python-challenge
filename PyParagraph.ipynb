{
 "cells": [
  {
   "cell_type": "code",
   "execution_count": 1,
   "metadata": {
    "scrolled": true
   },
   "outputs": [
    {
     "name": "stdout",
     "output_type": "stream",
     "text": [
      "Paragraph Analysis\n",
      "-----------------\n",
      "Approximate Word Count: 130\n",
      "Approximate Sentence Count: 5\n",
      "Approximate Letter Count: 6.3\n",
      "Average Sentence Length: 26.0\n"
     ]
    }
   ],
   "source": [
    "# import paragraph\n",
    "txtfile = open(\"C:/Users/sethn/Desktop/python-challenge/paragraph_1.txt\")\n",
    "\n",
    "# create lists and the necessary info about each.\n",
    "Prgh = txtfile.read()\n",
    "Wrds = len(Prgh.split(\" \"))\n",
    "Sntncs = len(Prgh.split(\".\")) - 1\n",
    "\n",
    "# find the number of letters\n",
    "Ltrs = 0\n",
    "for i in Prgh:\n",
    "    if i.isalnum():\n",
    "        Ltrs += 1\n",
    "\n",
    "# find the averages\n",
    "AvgLC = Ltrs / Wrds\n",
    "AvgSL = Wrds / Sntncs\n",
    "\n",
    "\n",
    "print(\"Paragraph Analysis\")\n",
    "print(\"-----------------\")\n",
    "print(f\"Approximate Word Count: {Wrds}\")\n",
    "print(f\"Approximate Sentence Count: {Sntncs}\")\n",
    "print(f\"Approximate Letter Count: {round(AvgLC, 1)}\")\n",
    "print(f\"Average Sentence Length: {round(AvgSL, 1)}\")\n",
    "\n",
    "with open(\"ParagraphAnalysis.txt\", \"a\") as txt:\n",
    "    txt.write(\"Paragraph Analysis\\n\")\n",
    "    txt.write(\"-----------------\\n\")\n",
    "    txt.write(f\"Approximate Word Count: {Wrds}\\n\")\n",
    "    txt.write(f\"Approximate Sentence Count: {Sntncs}\\n\")\n",
    "    txt.write(f\"Approximate Letter Count: {round(AvgLC, 1)}\\n\")\n",
    "    txt.write(f\"Average Sentence Length: {round(AvgSL, 1)}\\n\")"
   ]
  },
  {
   "cell_type": "code",
   "execution_count": null,
   "metadata": {},
   "outputs": [],
   "source": []
  }
 ],
 "metadata": {
  "kernelspec": {
   "display_name": "Python 3",
   "language": "python",
   "name": "python3"
  },
  "language_info": {
   "codemirror_mode": {
    "name": "ipython",
    "version": 3
   },
   "file_extension": ".py",
   "mimetype": "text/x-python",
   "name": "python",
   "nbconvert_exporter": "python",
   "pygments_lexer": "ipython3",
   "version": "3.7.1"
  }
 },
 "nbformat": 4,
 "nbformat_minor": 2
}
